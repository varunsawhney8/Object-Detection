{
  "nbformat": 4,
  "nbformat_minor": 0,
  "metadata": {
    "colab": {
      "name": "yolo-v4.ipynb",
      "provenance": [],
      "include_colab_link": true
    },
    "kernelspec": {
      "name": "python3",
      "display_name": "Python 3"
    },
    "accelerator": "GPU"
  },
  "cells": [
    {
      "cell_type": "markdown",
      "metadata": {
        "id": "view-in-github",
        "colab_type": "text"
      },
      "source": [
        "<a href=\"https://colab.research.google.com/github/varunsawhney8/Object-Detection/blob/main/yolo_v4.ipynb\" target=\"_parent\"><img src=\"https://colab.research.google.com/assets/colab-badge.svg\" alt=\"Open In Colab\"/></a>"
      ]
    },
    {
      "cell_type": "markdown",
      "metadata": {
        "id": "ywcB2cgwO6zF"
      },
      "source": [
        "## Installation\n",
        "\n",
        "*   Clone the AlexeyAB Github Project\n",
        "*   Change Makefile configurations and make OPENCV, GPU, CUDNN, CUDNN_HALF enable\n"
      ]
    },
    {
      "cell_type": "code",
      "metadata": {
        "id": "FQy42r4xMeic"
      },
      "source": [
        "import cv2, os\n",
        "import matplotlib.pyplot as plt\n",
        "%matplotlib inline"
      ],
      "execution_count": null,
      "outputs": []
    },
    {
      "cell_type": "code",
      "metadata": {
        "id": "rIToZsjUPJJW"
      },
      "source": [
        "!ls\n",
        "!cd /content\n",
        "!rm -fr darknet\n",
        "!git clone https://github.com/AlexeyAB/darknet/\n",
        "% cd darknet\n",
        "!sed -i 's/OPENCV=0/OPENCV=1/g' Makefile\n",
        "!sed -i 's/GPU=0/GPU=1/g' Makefile\n",
        "!sed -i 's/CUDNN=0/CUDNN=1/g' Makefile\n",
        "!sed -i 's/CUDNN_HALF=0/CUDNN_HALF=1/g' Makefile\n",
        "!apt update\n",
        "!apt-get install libopencv-dev"
      ],
      "execution_count": null,
      "outputs": []
    },
    {
      "cell_type": "markdown",
      "metadata": {
        "id": "84JTfC6KPJ9d"
      },
      "source": [
        "## Compile and Configure\n",
        "\n",
        "\n",
        "* Compile YOLO\n",
        "* Download YOLO weights"
      ]
    },
    {
      "cell_type": "code",
      "metadata": {
        "id": "m5yAx0-EPZcu"
      },
      "source": [
        "!make &> compile.log"
      ],
      "execution_count": null,
      "outputs": []
    },
    {
      "cell_type": "markdown",
      "metadata": {
        "id": "iNN39UOfPg8b"
      },
      "source": [
        "### Downloading the weights of YOLO-V3"
      ]
    },
    {
      "cell_type": "code",
      "metadata": {
        "id": "4k3ZwSTwPf84"
      },
      "source": [
        "!wget https://pjreddie.com/media/files/yolov3.weights"
      ],
      "execution_count": null,
      "outputs": []
    },
    {
      "cell_type": "markdown",
      "metadata": {
        "id": "7NdLH0xdPnNA"
      },
      "source": [
        "### Downloading the weigths of YOLO-V4"
      ]
    },
    {
      "cell_type": "code",
      "metadata": {
        "id": "wd5IKo0PPt8K"
      },
      "source": [
        "!wget https://github.com/AlexeyAB/darknet/releases/download/darknet_yolo_v3_optimal/yolov4.weights"
      ],
      "execution_count": null,
      "outputs": []
    },
    {
      "cell_type": "markdown",
      "metadata": {
        "id": "W710t_DzP0E1"
      },
      "source": [
        "## Inferencing/Testing on an image"
      ]
    },
    {
      "cell_type": "code",
      "metadata": {
        "id": "iGI1YzeyP5gO"
      },
      "source": [
        "def predictImage(imageDir):\n",
        "  os.system(\"cd /content/darknet && ./darknet detect cfg/yolov4.cfg yolov4.weights {}\".format(imageDir))\n",
        "  image = cv2.imread(\"/content/darknet/predictions.jpg\")\n",
        "  height, width = image.shape[:2]\n",
        "  resized_image = cv2.resize(image,(3*width, 3*height), interpolation = cv2.INTER_CUBIC)\n",
        "  fig = plt.gcf()\n",
        "  fig.set_size_inches(15, 8)\n",
        "  plt.axis(\"off\")\n",
        "  plt.imshow(cv2.cvtColor(resized_image, cv2.COLOR_BGR2RGB))\n",
        "  plt.show()"
      ],
      "execution_count": null,
      "outputs": []
    },
    {
      "cell_type": "code",
      "metadata": {
        "id": "3lULeTVjP_xe"
      },
      "source": [
        "predictImage(\"data/person.jpg\")"
      ],
      "execution_count": null,
      "outputs": []
    },
    {
      "cell_type": "markdown",
      "metadata": {
        "id": "wRSwBqfDQAzn"
      },
      "source": [
        "## Inferencing / Testing on a video"
      ]
    },
    {
      "cell_type": "code",
      "metadata": {
        "id": "ozqDI0wxQFya"
      },
      "source": [
        "def predictVideo(videoDir):\n",
        "  os.system(\"\"\" cd /content/darknet && ./darknet detector demo cfg/coco.data cfg/yolov4.cfg yolov4.weights \\\n",
        "  -dont_show {} -i 0 -out_filename output.avi\n",
        "  \"\"\".format(videoDir))"
      ],
      "execution_count": null,
      "outputs": []
    },
    {
      "cell_type": "markdown",
      "metadata": {
        "id": "a0UWVQ-nQTCo"
      },
      "source": [
        "### Downloading  and running test video"
      ]
    },
    {
      "cell_type": "code",
      "metadata": {
        "id": "NuEUmEd3QVnF"
      },
      "source": [
        "!wget https://vod-progressive.akamaized.net/exp=1589120892~acl=%2A%2F1775639804.mp4%2A~hmac=d01a28ca249124a97243c592811bf2e486d23a0bc5a5dbaf3894924739c9ca1d/vimeo-prod-skyfire-std-us/01/2608/16/413041027/1775639804.mp4?download=1&filename=production+ID%3A4267745.mp4"
      ],
      "execution_count": null,
      "outputs": []
    },
    {
      "cell_type": "code",
      "metadata": {
        "id": "6RSJuq31Qcu2"
      },
      "source": [
        "predictVideo(\"input.mp4\")"
      ],
      "execution_count": null,
      "outputs": []
    },
    {
      "cell_type": "markdown",
      "metadata": {
        "id": "jDt0HhCNQ02k"
      },
      "source": [
        "### Downloading the result output video"
      ]
    },
    {
      "cell_type": "code",
      "metadata": {
        "id": "NEuiqzTwQz7A"
      },
      "source": [
        "from google.colab import files\n",
        "files.download('/content/darknet/output.avi')"
      ],
      "execution_count": null,
      "outputs": []
    }
  ]
}